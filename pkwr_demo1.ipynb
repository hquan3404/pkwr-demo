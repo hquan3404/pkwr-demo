{
 "cells": [
  {
   "cell_type": "code",
   "execution_count": 2,
   "metadata": {},
   "outputs": [],
   "source": [
    "import numpy as np\n",
    "import random"
   ]
  },
  {
   "cell_type": "markdown",
   "metadata": {},
   "source": [
    "### Create Grid"
   ]
  },
  {
   "cell_type": "code",
   "execution_count": 47,
   "metadata": {},
   "outputs": [],
   "source": [
    "DIAMOND_TYPES = ['A', 'D', 'H'] # A: Attack, D: Defend, H: Heal\n",
    "class Player:\n",
    "    def __init__(self, name):\n",
    "        self.name = name\n",
    "        self.hp = 100\n",
    "        self.armor = 10\n",
    "    \n",
    "    def attack(self, dame):\n",
    "        total_dame = max(1, dame - self.armor)\n",
    "        self.hp -= total_dame\n",
    "        print(f'{self.name} is attacked {total_dame} dame')\n",
    "    def heal(self, hp_heal):\n",
    "        self.hp = min(100, self.hp + hp_heal)\n",
    "        print(f'{self.name} heal {self.hp}')\n",
    "    def defend(self, armor_n):\n",
    "        self.armor = min(75, self.armor + armor_n)\n",
    "        print(f'{self.name} buff {self.armor}')\n",
    "# hàm khởi tạo bảng ramdon, với điều kiện tránh 3 viên kim cương giống nhau liên tiếp\n",
    "def Grid_Board(size):\n",
    "    grid = np.random.choice(DIAMOND_TYPES,(size, size))\n",
    "    for i in range(size):\n",
    "        for j in range(size):\n",
    "            # kiểm tra để tránh 3 giá trị trùng lặp trở lên của một cột\n",
    "            if i <= (size-3) and grid[i][j] == grid[i + 1][j] == grid[i + 2][j]:\n",
    "                new_values = [x for x in DIAMOND_TYPES if x != grid[i][j]]\n",
    "                grid[i + 1][j] = random.choice(new_values)\n",
    "            # kiểm tra để tránh 3 giá trị trùng lặp trở lên của một hàng\n",
    "            if j <= (size-3) and grid[i][j] == grid[i][j + 1] == grid[i][j + 2]:\n",
    "                new_values = [x for x in DIAMOND_TYPES if x != grid[i][j]]\n",
    "                grid[i][j + 1] = random.choice(new_values)\n",
    "    return grid\n",
    "\n",
    "# hàm check điều kiện hoán đổi\n",
    "def check_swap_condition(grid):\n",
    "    rows, cols = grid.shape\n",
    "    # check điều kiện về hàng\n",
    "    for i in range(rows):\n",
    "        for j in range(cols - 2):\n",
    "            if grid[i][j] == grid[i][j+1] == grid[i][j+2]:\n",
    "                return True\n",
    "    # check điều kiện về cột\n",
    "    for i in range(cols - 2):\n",
    "        for j in range(rows):\n",
    "            if  grid[i][j] == grid[i+1][j] == grid[i+2][j]:\n",
    "                return True\n",
    "    return False\n",
    "# hoán đổi hai viên kim cương\n",
    "def check_match(grid, x1, y1, x2, y2):\n",
    "    new_grid = np.copy(grid)\n",
    "    new_grid[x1][y1], new_grid[x2][y2] = new_grid[x2][y2], new_grid[x1][y1]\n",
    "    if(check_swap_condition(new_grid)):\n",
    "        return new_grid\n",
    "    else: return grid\n",
    "    "
   ]
  },
  {
   "cell_type": "code",
   "execution_count": 48,
   "metadata": {},
   "outputs": [
    {
     "data": {
      "text/plain": [
       "array([['A', 'A', 'H', 'A', 'H', 'D', 'A', 'D', 'H', 'H'],\n",
       "       ['D', 'H', 'D', 'H', 'A', 'H', 'H', 'A', 'D', 'A'],\n",
       "       ['D', 'A', 'H', 'A', 'H', 'D', 'A', 'A', 'H', 'D'],\n",
       "       ['A', 'A', 'D', 'A', 'A', 'H', 'A', 'H', 'A', 'A'],\n",
       "       ['A', 'H', 'A', 'H', 'D', 'A', 'D', 'A', 'A', 'H'],\n",
       "       ['H', 'D', 'D', 'H', 'H', 'A', 'A', 'H', 'H', 'D'],\n",
       "       ['A', 'H', 'H', 'A', 'D', 'H', 'D', 'H', 'A', 'A'],\n",
       "       ['H', 'D', 'A', 'D', 'H', 'A', 'H', 'D', 'D', 'H'],\n",
       "       ['D', 'H', 'D', 'A', 'D', 'H', 'A', 'H', 'A', 'A'],\n",
       "       ['A', 'H', 'A', 'H', 'D', 'H', 'H', 'D', 'D', 'A']], dtype='<U1')"
      ]
     },
     "execution_count": 48,
     "metadata": {},
     "output_type": "execute_result"
    }
   ],
   "source": [
    "a = Grid_Board(10)\n",
    "a"
   ]
  },
  {
   "cell_type": "code",
   "execution_count": 41,
   "metadata": {},
   "outputs": [
    {
     "data": {
      "text/plain": [
       "array([['D', 'H', 'A', 'H', 'A', 'H', 'D', 'H', 'D', 'H'],\n",
       "       ['A', 'H', 'D', 'A', 'H', 'D', 'H', 'D', 'A', 'H'],\n",
       "       ['D', 'A', 'H', 'A', 'H', 'A', 'H', 'A', 'D', 'A'],\n",
       "       ['H', 'D', 'A', 'H', 'D', 'H', 'A', 'H', 'D', 'H'],\n",
       "       ['D', 'H', 'A', 'H', 'A', 'D', 'H', 'A', 'D', 'A'],\n",
       "       ['H', 'D', 'A', 'H', 'D', 'A', 'D', 'H', 'D', 'H'],\n",
       "       ['A', 'D', 'A', 'D', 'H', 'D', 'A', 'D', 'H', 'A'],\n",
       "       ['H', 'D', 'A', 'H', 'A', 'H', 'D', 'A', 'D', 'H'],\n",
       "       ['A', 'H', 'A', 'D', 'A', 'D', 'H', 'A', 'H', 'D'],\n",
       "       ['H', 'A', 'D', 'A', 'D', 'A', 'H', 'D', 'H', 'A']], dtype='<U1')"
      ]
     },
     "execution_count": 41,
     "metadata": {},
     "output_type": "execute_result"
    }
   ],
   "source": [
    "grid_test = Grid_Board(10)\n",
    "grid_test2 = grid_test.copy()\n",
    "grid_test2"
   ]
  },
  {
   "cell_type": "code",
   "execution_count": 43,
   "metadata": {},
   "outputs": [
    {
     "data": {
      "text/plain": [
       "array([['D', 'H', 'A', 'H', 'A', 'H', 'D', 'H', 'D', 'H'],\n",
       "       ['A', 'H', 'D', 'A', 'H', 'D', 'H', 'D', 'A', 'H'],\n",
       "       ['D', 'H', 'A', 'A', 'H', 'A', 'H', 'A', 'D', 'A'],\n",
       "       ['H', 'D', 'A', 'H', 'D', 'H', 'A', 'H', 'D', 'H'],\n",
       "       ['D', 'H', 'A', 'H', 'A', 'D', 'H', 'A', 'D', 'A'],\n",
       "       ['H', 'D', 'A', 'H', 'D', 'A', 'D', 'H', 'D', 'H'],\n",
       "       ['A', 'D', 'A', 'D', 'H', 'D', 'A', 'D', 'H', 'A'],\n",
       "       ['H', 'D', 'A', 'H', 'A', 'H', 'D', 'A', 'D', 'H'],\n",
       "       ['A', 'H', 'A', 'D', 'A', 'D', 'H', 'A', 'H', 'D'],\n",
       "       ['H', 'A', 'D', 'A', 'D', 'A', 'H', 'D', 'H', 'A']], dtype='<U1')"
      ]
     },
     "execution_count": 43,
     "metadata": {},
     "output_type": "execute_result"
    }
   ],
   "source": [
    "grid_test2\n",
    "check_match(grid_test2, 2, 1, 2, 2)"
   ]
  },
  {
   "cell_type": "code",
   "execution_count": 36,
   "metadata": {},
   "outputs": [
    {
     "data": {
      "text/plain": [
       "array([[1, 5, 3],\n",
       "       [2, 2, 2],\n",
       "       [7, 8, 9]])"
      ]
     },
     "execution_count": 36,
     "metadata": {},
     "output_type": "execute_result"
    }
   ],
   "source": [
    "x = np.array([[1, 2, 3],\n",
    "             [2, 5, 2],\n",
    "             [7, 8, 9]])\n",
    "check_match(x, 0, 1, 1, 1)"
   ]
  },
  {
   "cell_type": "code",
   "execution_count": 17,
   "metadata": {},
   "outputs": [],
   "source": [
    "def check_match(board, x1, y1, x2, y2):\n",
    "    # Hoán đổi 2 viên kim cương\n",
    "    board[x1][y1], board[x2][y2] = board[x2][y2], board[x1][y1]\n",
    "    \n",
    "    # Kiểm tra hàng dọc và ngang sau khi hoán đổi\n",
    "    matches = []\n",
    "    for i in range(len(board)):\n",
    "        for j in range(len(board[i])):\n",
    "            # Kiểm tra hàng ngang\n",
    "            if j <= len(board[i]) - 3 and board[i][j] == board[i][j + 1] == board[i][j + 2]:\n",
    "                matches.append((i, j, board[i][j]))\n",
    "            # Kiểm tra hàng dọc\n",
    "            if i <= len(board) - 3 and board[i][j] == board[i + 1][j] == board[i + 2][j]:\n",
    "                matches.append((i, j, board[i][j]))\n",
    "    \n",
    "    return matches\n"
   ]
  },
  {
   "cell_type": "code",
   "execution_count": 23,
   "metadata": {},
   "outputs": [
    {
     "name": "stdout",
     "output_type": "stream",
     "text": [
      "10\n"
     ]
    }
   ],
   "source": [
    "array = Grid_Board(10)\n",
    "print(len(array))"
   ]
  },
  {
   "cell_type": "code",
   "execution_count": 54,
   "metadata": {},
   "outputs": [
    {
     "name": "stdout",
     "output_type": "stream",
     "text": [
      "Pham Quan is attacked 10 dame\n"
     ]
    },
    {
     "data": {
      "text/plain": [
       "90"
      ]
     },
     "execution_count": 54,
     "metadata": {},
     "output_type": "execute_result"
    }
   ],
   "source": [
    "Player_1 = Player('Pham Quan')\n",
    "Player_2 = Player('Pham Hai')\n",
    "Player_1.attack(20)\n",
    "Player_1.hp"
   ]
  },
  {
   "cell_type": "code",
   "execution_count": 4,
   "metadata": {},
   "outputs": [
    {
     "data": {
      "text/plain": [
       "array([['H', 'D', 'A', 'H', 'D', 'A', 'H', 'A', 'H', 'A'],\n",
       "       ['A', 'H', 'D', 'H', 'A', 'H', 'A', 'H', 'D', 'H'],\n",
       "       ['D', 'A', 'H', 'D', 'H', 'D', 'H', 'D', 'A', 'D'],\n",
       "       ['H', 'A', 'D', 'H', 'D', 'A', 'D', 'H', 'A', 'H'],\n",
       "       ['D', 'H', 'D', 'A', 'H', 'D', 'H', 'A', 'H', 'D'],\n",
       "       ['H', 'D', 'A', 'D', 'A', 'D', 'H', 'D', 'A', 'H'],\n",
       "       ['D', 'H', 'A', 'H', 'D', 'H', 'A', 'H', 'D', 'A'],\n",
       "       ['A', 'D', 'A', 'D', 'H', 'A', 'D', 'A', 'H', 'D'],\n",
       "       ['H', 'D', 'H', 'A', 'H', 'D', 'A', 'H', 'D', 'A'],\n",
       "       ['A', 'H', 'A', 'H', 'A', 'H', 'D', 'H', 'D', 'A']], dtype='<U1')"
      ]
     },
     "execution_count": 4,
     "metadata": {},
     "output_type": "execute_result"
    }
   ],
   "source": [
    "Grid_Board(10)"
   ]
  },
  {
   "cell_type": "code",
   "execution_count": 33,
   "metadata": {},
   "outputs": [
    {
     "name": "stdout",
     "output_type": "stream",
     "text": [
      "Ma trận ban đầu:\n",
      "[[2 1 2 1 2 1 0 1 2 1]\n",
      " [1 0 1 2 1 0 1 0 1 0]\n",
      " [2 1 2 0 2 1 0 1 0 1]\n",
      " [0 2 0 1 0 2 1 2 1 2]\n",
      " [2 1 2 0 1 0 2 1 2 1]\n",
      " [0 2 1 2 0 1 0 2 1 0]\n",
      " [1 0 2 0 2 0 1 0 2 1]\n",
      " [2 1 0 1 0 2 0 1 0 2]\n",
      " [0 2 1 2 1 0 2 0 1 0]\n",
      " [1 0 2 1 2 1 0 1 2 1]]\n"
     ]
    }
   ],
   "source": [
    "import numpy as np\n",
    "import random\n",
    "\n",
    "# Tạo ma trận 10x10 với các quy tắc ngăn ngừa ba phần tử giống nhau\n",
    "def generate_matrix(size):\n",
    "    grid = np.zeros((size, size), dtype=int)\n",
    "    for i in range(size):\n",
    "        for j in range(size):\n",
    "            # Lấy giá trị trước đó trong hàng và cột\n",
    "            values = {grid[i-1][j] if i > 0 else None,\n",
    "                      grid[i][j-1] if j > 0 else None}\n",
    "            # Chọn một giá trị không giống giá trị đã tồn tại\n",
    "            value = random.choice([x for x in range(3) if x not in values])\n",
    "            grid[i][j] = value\n",
    "    return grid\n",
    "\n",
    "# Ma trận 10x10\n",
    "grid = generate_matrix(10)\n",
    "\n",
    "# In ma trận ban đầu\n",
    "print(\"Ma trận ban đầu:\")\n",
    "print(grid)\n"
   ]
  },
  {
   "cell_type": "code",
   "execution_count": 35,
   "metadata": {},
   "outputs": [
    {
     "data": {
      "text/plain": [
       "array(['A', 'D', 'H'], dtype='<U1')"
      ]
     },
     "execution_count": 35,
     "metadata": {},
     "output_type": "execute_result"
    }
   ],
   "source": []
  }
 ],
 "metadata": {
  "kernelspec": {
   "display_name": "Python 3",
   "language": "python",
   "name": "python3"
  },
  "language_info": {
   "codemirror_mode": {
    "name": "ipython",
    "version": 3
   },
   "file_extension": ".py",
   "mimetype": "text/x-python",
   "name": "python",
   "nbconvert_exporter": "python",
   "pygments_lexer": "ipython3",
   "version": "3.12.7"
  }
 },
 "nbformat": 4,
 "nbformat_minor": 2
}
